{
 "cells": [
  {
   "cell_type": "code",
   "execution_count": 1,
   "metadata": {},
   "outputs": [],
   "source": [
    "import nltk\n",
    "from textblob import TextBlob\n",
    "from nltk.stem import WordNetLemmatizer\n",
    "import pandas as pd\n",
    "from nltk.corpus import stopwords\n",
    "from nltk.tokenize import word_tokenize"
   ]
  },
  {
   "cell_type": "code",
   "execution_count": 2,
   "metadata": {},
   "outputs": [],
   "source": [
    "df = pd.read_csv(\"Amazon_Unlocked_Mobile.csv\")"
   ]
  },
  {
   "cell_type": "code",
   "execution_count": 3,
   "metadata": {},
   "outputs": [
    {
     "data": {
      "text/html": [
       "<div>\n",
       "<style scoped>\n",
       "    .dataframe tbody tr th:only-of-type {\n",
       "        vertical-align: middle;\n",
       "    }\n",
       "\n",
       "    .dataframe tbody tr th {\n",
       "        vertical-align: top;\n",
       "    }\n",
       "\n",
       "    .dataframe thead th {\n",
       "        text-align: right;\n",
       "    }\n",
       "</style>\n",
       "<table border=\"1\" class=\"dataframe\">\n",
       "  <thead>\n",
       "    <tr style=\"text-align: right;\">\n",
       "      <th></th>\n",
       "      <th>Product Name</th>\n",
       "      <th>Brand Name</th>\n",
       "      <th>Price</th>\n",
       "      <th>Rating</th>\n",
       "      <th>Reviews</th>\n",
       "      <th>Review Votes</th>\n",
       "    </tr>\n",
       "  </thead>\n",
       "  <tbody>\n",
       "    <tr>\n",
       "      <th>0</th>\n",
       "      <td>\"CLEAR CLEAN ESN\" Sprint EPIC 4G Galaxy SPH-D7...</td>\n",
       "      <td>Samsung</td>\n",
       "      <td>199.99</td>\n",
       "      <td>5</td>\n",
       "      <td>I feel so LUCKY to have found this used (phone...</td>\n",
       "      <td>1.0</td>\n",
       "    </tr>\n",
       "    <tr>\n",
       "      <th>1</th>\n",
       "      <td>\"CLEAR CLEAN ESN\" Sprint EPIC 4G Galaxy SPH-D7...</td>\n",
       "      <td>Samsung</td>\n",
       "      <td>199.99</td>\n",
       "      <td>4</td>\n",
       "      <td>nice phone, nice up grade from my pantach revu...</td>\n",
       "      <td>0.0</td>\n",
       "    </tr>\n",
       "    <tr>\n",
       "      <th>2</th>\n",
       "      <td>\"CLEAR CLEAN ESN\" Sprint EPIC 4G Galaxy SPH-D7...</td>\n",
       "      <td>Samsung</td>\n",
       "      <td>199.99</td>\n",
       "      <td>5</td>\n",
       "      <td>Very pleased</td>\n",
       "      <td>0.0</td>\n",
       "    </tr>\n",
       "    <tr>\n",
       "      <th>3</th>\n",
       "      <td>\"CLEAR CLEAN ESN\" Sprint EPIC 4G Galaxy SPH-D7...</td>\n",
       "      <td>Samsung</td>\n",
       "      <td>199.99</td>\n",
       "      <td>4</td>\n",
       "      <td>It works good but it goes slow sometimes but i...</td>\n",
       "      <td>0.0</td>\n",
       "    </tr>\n",
       "    <tr>\n",
       "      <th>4</th>\n",
       "      <td>\"CLEAR CLEAN ESN\" Sprint EPIC 4G Galaxy SPH-D7...</td>\n",
       "      <td>Samsung</td>\n",
       "      <td>199.99</td>\n",
       "      <td>4</td>\n",
       "      <td>Great phone to replace my lost phone. The only...</td>\n",
       "      <td>0.0</td>\n",
       "    </tr>\n",
       "  </tbody>\n",
       "</table>\n",
       "</div>"
      ],
      "text/plain": [
       "                                        Product Name Brand Name   Price  \\\n",
       "0  \"CLEAR CLEAN ESN\" Sprint EPIC 4G Galaxy SPH-D7...    Samsung  199.99   \n",
       "1  \"CLEAR CLEAN ESN\" Sprint EPIC 4G Galaxy SPH-D7...    Samsung  199.99   \n",
       "2  \"CLEAR CLEAN ESN\" Sprint EPIC 4G Galaxy SPH-D7...    Samsung  199.99   \n",
       "3  \"CLEAR CLEAN ESN\" Sprint EPIC 4G Galaxy SPH-D7...    Samsung  199.99   \n",
       "4  \"CLEAR CLEAN ESN\" Sprint EPIC 4G Galaxy SPH-D7...    Samsung  199.99   \n",
       "\n",
       "   Rating                                            Reviews  Review Votes  \n",
       "0       5  I feel so LUCKY to have found this used (phone...           1.0  \n",
       "1       4  nice phone, nice up grade from my pantach revu...           0.0  \n",
       "2       5                                       Very pleased           0.0  \n",
       "3       4  It works good but it goes slow sometimes but i...           0.0  \n",
       "4       4  Great phone to replace my lost phone. The only...           0.0  "
      ]
     },
     "execution_count": 3,
     "metadata": {},
     "output_type": "execute_result"
    }
   ],
   "source": [
    "df.head()"
   ]
  },
  {
   "cell_type": "code",
   "execution_count": 4,
   "metadata": {},
   "outputs": [
    {
     "data": {
      "text/plain": [
       "Product Name     object\n",
       "Brand Name       object\n",
       "Price           float64\n",
       "Rating            int64\n",
       "Reviews          object\n",
       "Review Votes    float64\n",
       "dtype: object"
      ]
     },
     "execution_count": 4,
     "metadata": {},
     "output_type": "execute_result"
    }
   ],
   "source": [
    "df.dtypes"
   ]
  },
  {
   "cell_type": "code",
   "execution_count": 5,
   "metadata": {},
   "outputs": [
    {
     "data": {
      "text/plain": [
       "Product Name     object\n",
       "Brand Name       object\n",
       "Price           float64\n",
       "Rating            int32\n",
       "Reviews          object\n",
       "Review Votes    float64\n",
       "dtype: object"
      ]
     },
     "execution_count": 5,
     "metadata": {},
     "output_type": "execute_result"
    }
   ],
   "source": [
    "# Cleaning and preprocessing\n",
    "\n",
    "# Drop rows with missing 'Brand Name' or 'Price'\n",
    "df = df.dropna(subset=['Brand Name', 'Price'])\n",
    "\n",
    "# Fill missing 'Reviews' with an empty string and 'Review Votes' with 0\n",
    "df['Reviews'] = df['Reviews'].fillna('')\n",
    "df['Review Votes'] = df['Review Votes'].fillna(0)\n",
    "\n",
    "# Convert 'Price' and 'Review Votes' to numeric format\n",
    "df['Price'] = pd.to_numeric(df['Price'])\n",
    "df['Review Votes'] = pd.to_numeric(df['Review Votes'])\n",
    "\n",
    "# Convert 'Rating' to integer format\n",
    "df['Rating'] = df['Rating'].astype(int)\n",
    "\n",
    "# Remove duplicate rows\n",
    "df = df.drop_duplicates()\n",
    "\n",
    "# Normalize text data by converting to lowercase\n",
    "df['Product Name'] = df['Product Name'].str.lower()\n",
    "df['Reviews'] = df['Reviews'].str.lower()\n",
    "\n",
    "# Remove punctuation from 'Reviews'\n",
    "df['Reviews'] = df['Reviews'].str.replace('[^\\w\\s]', '')\n",
    "\n",
    "# Remove stopwords from 'Reviews'\n",
    "stop_words = set(stopwords.words('english'))\n",
    "df['Reviews'] = df['Reviews'].apply(lambda x: ' '.join([word for word in word_tokenize(x) if word not in stop_words]))\n",
    "\n",
    "# Lemmatize the words in 'Reviews'\n",
    "lemmatizer = WordNetLemmatizer()\n",
    "df['Reviews'] = df['Reviews'].apply(lambda x: ' '.join([lemmatizer.lemmatize(word) for word in word_tokenize(x)]))\n",
    "\n",
    "# Check the cleaned data\n",
    "df.dtypes\n"
   ]
  },
  {
   "cell_type": "code",
   "execution_count": 6,
   "metadata": {},
   "outputs": [
    {
     "name": "stdout",
     "output_type": "stream",
     "text": [
      "291249\n",
      "378\n",
      "Brand Name\n",
      "SAMSUNG       56517\n",
      "APPLE         49994\n",
      "BLU           49901\n",
      "LG            19028\n",
      "NOKIA         14816\n",
      "BLACKBERRY    14813\n",
      "MOTOROLA      11265\n",
      "HTC           11146\n",
      "CNPGD         10444\n",
      "SONY           6715\n",
      "Name: count, dtype: int64\n",
      "224.22168347359136\n"
     ]
    }
   ],
   "source": [
    "Reviews = df['Reviews']\n",
    "print(len(Reviews))\n",
    "\n",
    "print(len(list(set(df['Brand Name']))))\n",
    "\n",
    "Brand_Name = df['Brand Name'].str.upper()\n",
    "print(Brand_Name.value_counts().head(10))\n",
    "\n",
    "Price = df['Price']\n",
    "print(Price.mean())"
   ]
  },
  {
   "cell_type": "code",
   "execution_count": 7,
   "metadata": {},
   "outputs": [],
   "source": [
    "df['Product Name'] = df['Product Name'].str.lower()\n",
    "df['Reviews'] = df['Reviews'].str.lower()"
   ]
  },
  {
   "cell_type": "code",
   "execution_count": 8,
   "metadata": {},
   "outputs": [
    {
     "data": {
      "text/plain": [
       "291249"
      ]
     },
     "execution_count": 8,
     "metadata": {},
     "output_type": "execute_result"
    }
   ],
   "source": [
    "Reviews = df['Reviews']\n",
    "len(Reviews)"
   ]
  },
  {
   "cell_type": "code",
   "execution_count": 9,
   "metadata": {},
   "outputs": [
    {
     "data": {
      "text/plain": [
       "378"
      ]
     },
     "execution_count": 9,
     "metadata": {},
     "output_type": "execute_result"
    }
   ],
   "source": [
    "len(list(set(df['Brand Name'])))"
   ]
  },
  {
   "cell_type": "code",
   "execution_count": 10,
   "metadata": {},
   "outputs": [
    {
     "data": {
      "text/plain": [
       "Brand Name\n",
       "SAMSUNG       56517\n",
       "APPLE         49994\n",
       "BLU           49901\n",
       "LG            19028\n",
       "NOKIA         14816\n",
       "BLACKBERRY    14813\n",
       "MOTOROLA      11265\n",
       "HTC           11146\n",
       "CNPGD         10444\n",
       "SONY           6715\n",
       "Name: count, dtype: int64"
      ]
     },
     "execution_count": 10,
     "metadata": {},
     "output_type": "execute_result"
    }
   ],
   "source": [
    "Brand_Name = df['Brand Name'].str.upper()\n",
    "Brand_Name.value_counts().head(10)"
   ]
  },
  {
   "cell_type": "code",
   "execution_count": 11,
   "metadata": {},
   "outputs": [
    {
     "data": {
      "text/plain": [
       "224.22168347359136"
      ]
     },
     "execution_count": 11,
     "metadata": {},
     "output_type": "execute_result"
    }
   ],
   "source": [
    "Price = df['Price']\n",
    "Price.mean()"
   ]
  },
  {
   "cell_type": "markdown",
   "metadata": {},
   "source": [
    "Distribution graphs (histogram/bar graph)"
   ]
  },
  {
   "cell_type": "code",
   "execution_count": 12,
   "metadata": {},
   "outputs": [],
   "source": [
    "# from mpl_toolkits.mplot3d import Axes3D\n",
    "# from sklearn.preprocessing import StandardScaler\n",
    "# import matplotlib.pyplot as plt # plotting\n",
    "# import numpy as np # linear algebra\n",
    "# import os # accessing directory structure\n",
    "# import pandas as pd "
   ]
  },
  {
   "cell_type": "code",
   "execution_count": 13,
   "metadata": {},
   "outputs": [],
   "source": [
    "# import matplotlib.pyplot as plt\n",
    "# import numpy as np\n",
    "\n",
    "# def plotPerColumnDistribution(df, nGraphShown, nGraphPerRow):\n",
    "#     nunique = df.nunique()\n",
    "#     # Filter columns with 1 to 50 unique values\n",
    "#     df = df[[col for col in df if 1 < nunique[col] < 50]]\n",
    "#     nRow, nCol = df.shape\n",
    "#     columnNames = list(df)\n",
    "#     nGraphRow = int((nCol + nGraphPerRow - 1) / nGraphPerRow)  # Ensure nGraphRow is an integer\n",
    "#     plt.figure(num=None, figsize=(6 * nGraphPerRow, 8 * nGraphRow), dpi=80, facecolor='w', edgecolor='k')\n",
    "#     for i in range(min(nCol, nGraphShown)):\n",
    "#         plt.subplot(nGraphRow, nGraphPerRow, i + 1)\n",
    "#         columnDf = df.iloc[:, i]\n",
    "#         if not np.issubdtype(type(columnDf.iloc[0]), np.number):\n",
    "#             valueCounts = columnDf.value_counts()\n",
    "#             valueCounts.plot.bar()\n",
    "#         else:\n",
    "#             columnDf.hist()\n",
    "#         plt.ylabel('counts')\n",
    "#         plt.xticks(rotation=90)\n",
    "#         plt.title(f'{columnNames[i]} (column {i})')\n",
    "#     plt.tight_layout(pad=1.0, w_pad=1.0, h_pad=1.0)\n",
    "#     plt.show()\n",
    "\n"
   ]
  },
  {
   "cell_type": "code",
   "execution_count": 14,
   "metadata": {},
   "outputs": [],
   "source": [
    "# plotPerColumnDistribution(df, 10, 5)"
   ]
  },
  {
   "cell_type": "code",
   "execution_count": 19,
   "metadata": {},
   "outputs": [
    {
     "name": "stderr",
     "output_type": "stream",
     "text": [
      "[nltk_data] Downloading package punkt to\n",
      "[nltk_data]     C:\\Users\\hp\\AppData\\Roaming\\nltk_data...\n",
      "[nltk_data]   Package punkt is already up-to-date!\n",
      "[nltk_data] Downloading package stopwords to\n",
      "[nltk_data]     C:\\Users\\hp\\AppData\\Roaming\\nltk_data...\n",
      "[nltk_data]   Package stopwords is already up-to-date!\n",
      "[nltk_data] Downloading package wordnet to\n",
      "[nltk_data]     C:\\Users\\hp\\AppData\\Roaming\\nltk_data...\n",
      "[nltk_data]   Package wordnet is already up-to-date!\n"
     ]
    },
    {
     "data": {
      "text/plain": [
       "True"
      ]
     },
     "execution_count": 19,
     "metadata": {},
     "output_type": "execute_result"
    }
   ],
   "source": [
    "nltk.download('punkt')\n",
    "nltk.download('stopwords')\n",
    "nltk.download('wordnet')"
   ]
  },
  {
   "cell_type": "code",
   "execution_count": 20,
   "metadata": {},
   "outputs": [
    {
     "data": {
      "text/html": [
       "<div>\n",
       "<style scoped>\n",
       "    .dataframe tbody tr th:only-of-type {\n",
       "        vertical-align: middle;\n",
       "    }\n",
       "\n",
       "    .dataframe tbody tr th {\n",
       "        vertical-align: top;\n",
       "    }\n",
       "\n",
       "    .dataframe thead th {\n",
       "        text-align: right;\n",
       "    }\n",
       "</style>\n",
       "<table border=\"1\" class=\"dataframe\">\n",
       "  <thead>\n",
       "    <tr style=\"text-align: right;\">\n",
       "      <th></th>\n",
       "      <th>Reviews</th>\n",
       "      <th>cleaned_phrases</th>\n",
       "    </tr>\n",
       "  </thead>\n",
       "  <tbody>\n",
       "    <tr>\n",
       "      <th>0</th>\n",
       "      <td>feel lucky found used ( phone u &amp; used hard ) ...</td>\n",
       "      <td>[feel lucky found used  phone u  used hard   p...</td>\n",
       "    </tr>\n",
       "    <tr>\n",
       "      <th>1</th>\n",
       "      <td>nice phone , nice grade pantach revue . clean ...</td>\n",
       "      <td>[nice phone  nice grade pantach revue  clean s...</td>\n",
       "    </tr>\n",
       "    <tr>\n",
       "      <th>2</th>\n",
       "      <td>pleased</td>\n",
       "      <td>[pleased]</td>\n",
       "    </tr>\n",
       "    <tr>\n",
       "      <th>3</th>\n",
       "      <td>work good go slow sometimes good phone love</td>\n",
       "      <td>[work good go slow sometimes good phone love]</td>\n",
       "    </tr>\n",
       "    <tr>\n",
       "      <th>4</th>\n",
       "      <td>great phone replace lost phone . thing volume ...</td>\n",
       "      <td>[great phone replace lost phone  thing volume ...</td>\n",
       "    </tr>\n",
       "  </tbody>\n",
       "</table>\n",
       "</div>"
      ],
      "text/plain": [
       "                                             Reviews  \\\n",
       "0  feel lucky found used ( phone u & used hard ) ...   \n",
       "1  nice phone , nice grade pantach revue . clean ...   \n",
       "2                                            pleased   \n",
       "3        work good go slow sometimes good phone love   \n",
       "4  great phone replace lost phone . thing volume ...   \n",
       "\n",
       "                                     cleaned_phrases  \n",
       "0  [feel lucky found used  phone u  used hard   p...  \n",
       "1  [nice phone  nice grade pantach revue  clean s...  \n",
       "2                                          [pleased]  \n",
       "3      [work good go slow sometimes good phone love]  \n",
       "4  [great phone replace lost phone  thing volume ...  "
      ]
     },
     "execution_count": 20,
     "metadata": {},
     "output_type": "execute_result"
    }
   ],
   "source": [
    "import re\n",
    "import pandas as pd\n",
    "\n",
    "# Faster text cleaning using regular expressions and Python's split\n",
    "def clean_review_fast(review):\n",
    "    # Lowercase the text\n",
    "    review = review.lower()\n",
    "    # Remove punctuation using regular expressions\n",
    "    review = re.sub(r'[^\\w\\s]', '', review)  \n",
    "    # Split the text into sentences using '.' as a delimiter\n",
    "    sentences = review.split('.')\n",
    "    return [sentence.strip() for sentence in sentences if sentence.strip()]\n",
    "\n",
    "# Apply the faster cleaning and phrase extraction function\n",
    "df['cleaned_phrases'] = df['Reviews'].apply(clean_review_fast)\n",
    "\n",
    "# Example: Check the first few rows\n",
    "df[['Reviews', 'cleaned_phrases']].head()\n"
   ]
  },
  {
   "cell_type": "code",
   "execution_count": 24,
   "metadata": {},
   "outputs": [],
   "source": [
    "import numpy as np\n",
    "# Load the GloVe embeddings into a dictionary\n",
    "def load_glove_embeddings(file_path):\n",
    "    embeddings_index = {}\n",
    "    with open(file_path, 'r', encoding='utf-8') as f:\n",
    "        for line in f:\n",
    "            values = line.split()\n",
    "            word = values[0]\n",
    "            coefs = np.asarray(values[1:], dtype='float32')\n",
    "            embeddings_index[word] = coefs\n",
    "    return embeddings_index\n",
    "\n",
    "# Example: Load GloVe 300-dimensional embeddings\n",
    "glove_file_path = 'glove.6B.300d.txt'  # Path to the GloVe file\n",
    "glove_embeddings = load_glove_embeddings(glove_file_path)\n",
    "\n",
    "# Now `glove_embeddings` is defined and can be used\n"
   ]
  },
  {
   "cell_type": "code",
   "execution_count": 25,
   "metadata": {},
   "outputs": [
    {
     "data": {
      "text/html": [
       "<div>\n",
       "<style scoped>\n",
       "    .dataframe tbody tr th:only-of-type {\n",
       "        vertical-align: middle;\n",
       "    }\n",
       "\n",
       "    .dataframe tbody tr th {\n",
       "        vertical-align: top;\n",
       "    }\n",
       "\n",
       "    .dataframe thead th {\n",
       "        text-align: right;\n",
       "    }\n",
       "</style>\n",
       "<table border=\"1\" class=\"dataframe\">\n",
       "  <thead>\n",
       "    <tr style=\"text-align: right;\">\n",
       "      <th></th>\n",
       "      <th>cleaned_phrases</th>\n",
       "      <th>Phrase_Embeddings</th>\n",
       "    </tr>\n",
       "  </thead>\n",
       "  <tbody>\n",
       "    <tr>\n",
       "      <th>0</th>\n",
       "      <td>[feel lucky found used  phone u  used hard   p...</td>\n",
       "      <td>[[-0.15108447178806128, 0.10762823902462658, -...</td>\n",
       "    </tr>\n",
       "    <tr>\n",
       "      <th>1</th>\n",
       "      <td>[nice phone  nice grade pantach revue  clean s...</td>\n",
       "      <td>[[-0.2946464554794754, 0.0988743322280546, -0....</td>\n",
       "    </tr>\n",
       "    <tr>\n",
       "      <th>2</th>\n",
       "      <td>[pleased]</td>\n",
       "      <td>[[0.45006, 0.019687, 0.14389, -0.68812, -0.059...</td>\n",
       "    </tr>\n",
       "    <tr>\n",
       "      <th>3</th>\n",
       "      <td>[work good go slow sometimes good phone love]</td>\n",
       "      <td>[[-0.1789889, 0.008201499, -0.027085625, -0.01...</td>\n",
       "    </tr>\n",
       "    <tr>\n",
       "      <th>4</th>\n",
       "      <td>[great phone replace lost phone  thing volume ...</td>\n",
       "      <td>[[-0.24150211855562198, 0.01832961363510953, 0...</td>\n",
       "    </tr>\n",
       "  </tbody>\n",
       "</table>\n",
       "</div>"
      ],
      "text/plain": [
       "                                     cleaned_phrases  \\\n",
       "0  [feel lucky found used  phone u  used hard   p...   \n",
       "1  [nice phone  nice grade pantach revue  clean s...   \n",
       "2                                          [pleased]   \n",
       "3      [work good go slow sometimes good phone love]   \n",
       "4  [great phone replace lost phone  thing volume ...   \n",
       "\n",
       "                                   Phrase_Embeddings  \n",
       "0  [[-0.15108447178806128, 0.10762823902462658, -...  \n",
       "1  [[-0.2946464554794754, 0.0988743322280546, -0....  \n",
       "2  [[0.45006, 0.019687, 0.14389, -0.68812, -0.059...  \n",
       "3  [[-0.1789889, 0.008201499, -0.027085625, -0.01...  \n",
       "4  [[-0.24150211855562198, 0.01832961363510953, 0...  "
      ]
     },
     "execution_count": 25,
     "metadata": {},
     "output_type": "execute_result"
    }
   ],
   "source": [
    "# Function to get GloVe embedding for a word\n",
    "def get_word_embedding(word, embeddings_index, embedding_dim=300):\n",
    "    return embeddings_index.get(word, np.zeros(embedding_dim))\n",
    "\n",
    "# Function to get the average GloVe embedding for a phrase\n",
    "def get_phrase_embedding(phrase, embeddings_index, embedding_dim=300):\n",
    "    words = phrase.split()  # Split phrase into words\n",
    "    word_embeddings = [get_word_embedding(word, embeddings_index, embedding_dim) for word in words]\n",
    "    if len(word_embeddings) > 0:\n",
    "        return np.mean(word_embeddings, axis=0)  # Average word embeddings to get phrase embedding\n",
    "    else:\n",
    "        return np.zeros(embedding_dim)  # Return zero vector if no embeddings\n",
    "\n",
    "# Apply GloVe embeddings to each phrase\n",
    "df['Phrase_Embeddings'] = df['cleaned_phrases'].apply(lambda phrases: [get_phrase_embedding(phrase, glove_embeddings) for phrase in phrases])\n",
    "\n",
    "# Example: Check the phrase embeddings for the first few rows\n",
    "df[['cleaned_phrases', 'Phrase_Embeddings']].head()\n"
   ]
  },
  {
   "cell_type": "code",
   "execution_count": 26,
   "metadata": {},
   "outputs": [],
   "source": [
    "from sklearn.cluster import KMeans\n",
    "import numpy as np\n",
    "\n",
    "# Flatten phrase embeddings into a single list\n",
    "phrase_embeddings_flat = [embedding for embeddings in df['Phrase_Embeddings'] for embedding in embeddings]\n",
    "\n",
    "# Convert to NumPy array for clustering\n",
    "phrase_embeddings_flat = np.array(phrase_embeddings_flat)\n"
   ]
  },
  {
   "cell_type": "code",
   "execution_count": 27,
   "metadata": {},
   "outputs": [],
   "source": [
    "# Step 1: Flatten the list of phrase embeddings, ensuring no empty embeddings\n",
    "phrase_embeddings_flat = []\n",
    "for embeddings in df['Phrase_Embeddings']:\n",
    "    if embeddings:  # Only include non-empty embeddings\n",
    "        phrase_embeddings_flat.extend(embeddings)\n",
    "\n",
    "# Convert the list to a NumPy array (for clustering)\n",
    "phrase_embeddings_flat = np.array(phrase_embeddings_flat)\n"
   ]
  },
  {
   "cell_type": "code",
   "execution_count": 28,
   "metadata": {},
   "outputs": [
    {
     "name": "stderr",
     "output_type": "stream",
     "text": [
      "C:\\Users\\hp\\AppData\\Roaming\\Python\\Python311\\site-packages\\sklearn\\cluster\\_kmeans.py:870: FutureWarning: The default value of `n_init` will change from 10 to 'auto' in 1.4. Set the value of `n_init` explicitly to suppress the warning\n",
      "  warnings.warn(\n"
     ]
    }
   ],
   "source": [
    "from sklearn.cluster import KMeans\n",
    "\n",
    "# Step 2: Apply KMeans clustering\n",
    "n_clusters = 10  # Adjust based on the number of latent features you expect\n",
    "kmeans = KMeans(n_clusters=n_clusters, random_state=42).fit(phrase_embeddings_flat)\n"
   ]
  },
  {
   "cell_type": "code",
   "execution_count": 29,
   "metadata": {},
   "outputs": [
    {
     "data": {
      "text/html": [
       "<div>\n",
       "<style scoped>\n",
       "    .dataframe tbody tr th:only-of-type {\n",
       "        vertical-align: middle;\n",
       "    }\n",
       "\n",
       "    .dataframe tbody tr th {\n",
       "        vertical-align: top;\n",
       "    }\n",
       "\n",
       "    .dataframe thead th {\n",
       "        text-align: right;\n",
       "    }\n",
       "</style>\n",
       "<table border=\"1\" class=\"dataframe\">\n",
       "  <thead>\n",
       "    <tr style=\"text-align: right;\">\n",
       "      <th></th>\n",
       "      <th>cleaned_phrases</th>\n",
       "      <th>Phrase_Clusters</th>\n",
       "    </tr>\n",
       "  </thead>\n",
       "  <tbody>\n",
       "    <tr>\n",
       "      <th>0</th>\n",
       "      <td>[feel lucky found used  phone u  used hard   p...</td>\n",
       "      <td>[8]</td>\n",
       "    </tr>\n",
       "    <tr>\n",
       "      <th>1</th>\n",
       "      <td>[nice phone  nice grade pantach revue  clean s...</td>\n",
       "      <td>[8]</td>\n",
       "    </tr>\n",
       "    <tr>\n",
       "      <th>2</th>\n",
       "      <td>[pleased]</td>\n",
       "      <td>[9]</td>\n",
       "    </tr>\n",
       "    <tr>\n",
       "      <th>3</th>\n",
       "      <td>[work good go slow sometimes good phone love]</td>\n",
       "      <td>[9]</td>\n",
       "    </tr>\n",
       "    <tr>\n",
       "      <th>4</th>\n",
       "      <td>[great phone replace lost phone  thing volume ...</td>\n",
       "      <td>[8]</td>\n",
       "    </tr>\n",
       "  </tbody>\n",
       "</table>\n",
       "</div>"
      ],
      "text/plain": [
       "                                     cleaned_phrases Phrase_Clusters\n",
       "0  [feel lucky found used  phone u  used hard   p...             [8]\n",
       "1  [nice phone  nice grade pantach revue  clean s...             [8]\n",
       "2                                          [pleased]             [9]\n",
       "3      [work good go slow sometimes good phone love]             [9]\n",
       "4  [great phone replace lost phone  thing volume ...             [8]"
      ]
     },
     "execution_count": 29,
     "metadata": {},
     "output_type": "execute_result"
    }
   ],
   "source": [
    "# Step 3: Assign clusters to each phrase embedding\n",
    "def assign_clusters(phrase_embeddings):\n",
    "    if len(phrase_embeddings) > 0:\n",
    "        return kmeans.predict(phrase_embeddings)  # Predict cluster for each phrase\n",
    "    else:\n",
    "        return []  # Handle cases where no embeddings exist\n",
    "\n",
    "df['Phrase_Clusters'] = df['Phrase_Embeddings'].apply(assign_clusters)\n",
    "\n",
    "# Step 4: Check the cluster assignments for the first few rows\n",
    "df[['cleaned_phrases', 'Phrase_Clusters']].head()\n"
   ]
  },
  {
   "cell_type": "markdown",
   "metadata": {},
   "source": [
    "machine learning on the feature clusters"
   ]
  },
  {
   "cell_type": "code",
   "execution_count": 30,
   "metadata": {},
   "outputs": [],
   "source": [
    "# Map the Rating to Sentiment (Proxy Labels)\n",
    "def assign_sentiment(rating):\n",
    "    if rating >= 4:\n",
    "        return 'Positive'\n",
    "    elif rating == 3:\n",
    "        return 'Neutral'\n",
    "    else:\n",
    "        return 'Negative'\n",
    "\n",
    "# Apply sentiment labels based on the Rating field\n",
    "df['Sentiment'] = df['Rating'].apply(assign_sentiment)\n"
   ]
  },
  {
   "cell_type": "code",
   "execution_count": 31,
   "metadata": {},
   "outputs": [],
   "source": [
    "import numpy as np\n",
    "\n",
    "# Initialize empty lists for features and labels\n",
    "X, y = [], []\n",
    "\n",
    "# Iterate through the dataframe row by row to extract embeddings and sentiment labels\n",
    "for index, row in df.iterrows():\n",
    "    embeddings = row['Phrase_Embeddings']\n",
    "    sentiment = row['Sentiment']\n",
    "    \n",
    "    # For each phrase embedding, append the embedding and corresponding sentiment\n",
    "    for embedding in embeddings:\n",
    "        X.append(embedding)\n",
    "        y.append(sentiment)\n",
    "\n",
    "# Convert lists to NumPy arrays\n",
    "X = np.array(X)\n",
    "y = np.array(y)\n"
   ]
  },
  {
   "cell_type": "code",
   "execution_count": 32,
   "metadata": {},
   "outputs": [],
   "source": [
    "from sklearn.model_selection import train_test_split\n",
    "\n",
    "# Split the data into training and testing sets\n",
    "X_train, X_test, y_train, y_test = train_test_split(X, y, test_size=0.2, random_state=42)\n"
   ]
  },
  {
   "cell_type": "markdown",
   "metadata": {},
   "source": [
    "lightgbm"
   ]
  },
  {
   "cell_type": "code",
   "execution_count": 33,
   "metadata": {},
   "outputs": [
    {
     "name": "stdout",
     "output_type": "stream",
     "text": [
      "Defaulting to user installation because normal site-packages is not writeableNote: you may need to restart the kernel to use updated packages.\n"
     ]
    },
    {
     "name": "stderr",
     "output_type": "stream",
     "text": [
      "DEPRECATION: Loading egg at c:\\program files\\python311\\lib\\site-packages\\vboxapi-1.0-py3.11.egg is deprecated. pip 24.3 will enforce this behaviour change. A possible replacement is to use pip for package installation.. Discussion can be found at https://github.com/pypa/pip/issues/12330\n",
      "\n",
      "[notice] A new release of pip is available: 24.0 -> 24.2\n",
      "[notice] To update, run: python.exe -m pip install --upgrade pip\n"
     ]
    },
    {
     "name": "stdout",
     "output_type": "stream",
     "text": [
      "\n",
      "Requirement already satisfied: lightgbm in c:\\users\\hp\\appdata\\roaming\\python\\python311\\site-packages (4.5.0)\n",
      "Requirement already satisfied: numpy>=1.17.0 in c:\\users\\hp\\appdata\\roaming\\python\\python311\\site-packages (from lightgbm) (1.26.4)\n",
      "Requirement already satisfied: scipy in c:\\users\\hp\\appdata\\roaming\\python\\python311\\site-packages (from lightgbm) (1.10.1)\n"
     ]
    }
   ],
   "source": [
    "pip install lightgbm\n"
   ]
  },
  {
   "cell_type": "code",
   "execution_count": 35,
   "metadata": {},
   "outputs": [
    {
     "name": "stdout",
     "output_type": "stream",
     "text": [
      "Training until validation scores don't improve for 10 rounds\n",
      "Did not meet early stopping. Best iteration is:\n",
      "[100]\ttraining's multi_logloss: 0.394951\tvalid_1's multi_logloss: 0.42511\n",
      "LightGBM Accuracy: 84.52%\n",
      "              precision    recall  f1-score   support\n",
      "\n",
      "    Negative       0.77      0.79      0.78     14134\n",
      "     Neutral       0.85      0.12      0.22      4666\n",
      "    Positive       0.87      0.95      0.91     39343\n",
      "\n",
      "    accuracy                           0.85     58143\n",
      "   macro avg       0.83      0.62      0.63     58143\n",
      "weighted avg       0.84      0.85      0.82     58143\n",
      "\n"
     ]
    }
   ],
   "source": [
    "import lightgbm as lgb\n",
    "from sklearn.metrics import accuracy_score, classification_report\n",
    "\n",
    "# Step 1: Convert sentiment labels to numerical values\n",
    "sentiment_mapping = {'Positive': 2, 'Neutral': 1, 'Negative': 0}\n",
    "y_train_numeric = np.array([sentiment_mapping[label] for label in y_train])\n",
    "y_test_numeric = np.array([sentiment_mapping[label] for label in y_test])\n",
    "\n",
    "# Step 2: Prepare LightGBM dataset with numerical labels\n",
    "train_data = lgb.Dataset(X_train, label=y_train_numeric)\n",
    "test_data = lgb.Dataset(X_test, label=y_test_numeric)\n",
    "\n",
    "# Step 3: Set LightGBM parameters\n",
    "params = {\n",
    "    'objective': 'multiclass',\n",
    "    'num_class': 3,  # Positive, Neutral, Negative\n",
    "    'boosting_type': 'gbdt',\n",
    "    'metric': 'multi_logloss',\n",
    "    'verbosity': -1,\n",
    "}\n",
    "\n",
    "# Step 4: Train the LightGBM model with early stopping using callbacks\n",
    "lgb_model = lgb.train(\n",
    "    params,\n",
    "    train_data,\n",
    "    valid_sets=[train_data, test_data],\n",
    "    num_boost_round=100,\n",
    "    callbacks=[lgb.early_stopping(stopping_rounds=10)]\n",
    ")\n",
    "\n",
    "# Step 5: Predict on test data\n",
    "y_pred = np.argmax(lgb_model.predict(X_test), axis=1)\n",
    "\n",
    "# Step 6: Map predictions back to sentiment labels for evaluation\n",
    "inverse_sentiment_mapping = {0: 'Negative', 1: 'Neutral', 2: 'Positive'}\n",
    "y_pred_labels = np.array([inverse_sentiment_mapping[pred] for pred in y_pred])\n",
    "y_test_labels = np.array([inverse_sentiment_mapping[actual] for actual in y_test_numeric])\n",
    "\n",
    "# Step 7: Evaluate the model\n",
    "accuracy = accuracy_score(y_test_labels, y_pred_labels)\n",
    "print(f\"LightGBM Accuracy: {accuracy * 100:.2f}%\")\n",
    "print(classification_report(y_test_labels, y_pred_labels))\n"
   ]
  },
  {
   "cell_type": "code",
   "execution_count": 54,
   "metadata": {},
   "outputs": [
    {
     "data": {
      "image/png": "[encoded data removed]",
      "text/plain": [
       "<Figure size 800x600 with 2 Axes>"
      ]
     },
     "metadata": {},
     "output_type": "display_data"
    }
   ],
   "source": [
    "from sklearn.metrics import confusion_matrix\n",
    "import seaborn as sns\n",
    "import matplotlib.pyplot as plt\n",
    "\n",
    "# Generate confusion matrix\n",
    "cm = confusion_matrix(y_test_labels, y_pred_labels, labels=['Positive', 'Neutral', 'Negative'])\n",
    "\n",
    "# Plot confusion matrix\n",
    "plt.figure(figsize=(8, 6))\n",
    "sns.heatmap(cm, annot=True, fmt='d', cmap='Blues', xticklabels=['Positive', 'Neutral', 'Negative'], yticklabels=['Positive', 'Neutral', 'Negative'])\n",
    "plt.xlabel('Predicted')\n",
    "plt.ylabel('Actual')\n",
    "plt.title('Confusion Matrix')\n",
    "plt.show()\n"
   ]
  },
  {
   "cell_type": "code",
   "execution_count": 36,
   "metadata": {},
   "outputs": [
    {
     "name": "stdout",
     "output_type": "stream",
     "text": [
      "Defaulting to user installation because normal site-packages is not writeable\n",
      "Requirement already satisfied: catboost in c:\\users\\hp\\appdata\\roaming\\python\\python311\\site-packages (1.2.7)\n",
      "Requirement already satisfied: graphviz in c:\\users\\hp\\appdata\\roaming\\python\\python311\\site-packages (from catboost) (0.20.3)\n",
      "Requirement already satisfied: matplotlib in c:\\users\\hp\\appdata\\roaming\\python\\python311\\site-packages (from catboost) (3.8.0)\n",
      "Requirement already satisfied: numpy<2.0,>=1.16.0 in c:\\users\\hp\\appdata\\roaming\\python\\python311\\site-packages (from catboost) (1.26.4)\n",
      "Requirement already satisfied: pandas>=0.24 in c:\\users\\hp\\appdata\\roaming\\python\\python311\\site-packages (from catboost) (2.1.1)\n",
      "Requirement already satisfied: scipy in c:\\users\\hp\\appdata\\roaming\\python\\python311\\site-packages (from catboost) (1.10.1)\n",
      "Requirement already satisfied: plotly in c:\\users\\hp\\appdata\\roaming\\python\\python311\\site-packages (from catboost) (5.17.0)\n",
      "Requirement already satisfied: six in c:\\users\\hp\\appdata\\roaming\\python\\python311\\site-packages (from catboost) (1.16.0)\n",
      "Requirement already satisfied: python-dateutil>=2.8.2 in c:\\users\\hp\\appdata\\roaming\\python\\python311\\site-packages (from pandas>=0.24->catboost) (2.8.2)\n",
      "Requirement already satisfied: pytz>=2020.1 in c:\\users\\hp\\appdata\\roaming\\python\\python311\\site-packages (from pandas>=0.24->catboost) (2020.1)\n",
      "Requirement already satisfied: tzdata>=2022.1 in c:\\users\\hp\\appdata\\roaming\\python\\python311\\site-packages (from pandas>=0.24->catboost) (2023.3)\n",
      "Requirement already satisfied: contourpy>=1.0.1 in c:\\users\\hp\\appdata\\roaming\\python\\python311\\site-packages (from matplotlib->catboost) (1.1.1)\n",
      "Requirement already satisfied: cycler>=0.10 in c:\\users\\hp\\appdata\\roaming\\python\\python311\\site-packages (from matplotlib->catboost) (0.12.1)\n",
      "Requirement already satisfied: fonttools>=4.22.0 in c:\\users\\hp\\appdata\\roaming\\python\\python311\\site-packages (from matplotlib->catboost) (4.43.1)\n",
      "Requirement already satisfied: kiwisolver>=1.0.1 in c:\\users\\hp\\appdata\\roaming\\python\\python311\\site-packages (from matplotlib->catboost) (1.4.5)\n",
      "Requirement already satisfied: packaging>=20.0 in c:\\users\\hp\\appdata\\roaming\\python\\python311\\site-packages (from matplotlib->catboost) (23.2)\n",
      "Requirement already satisfied: pillow>=6.2.0 in c:\\users\\hp\\appdata\\roaming\\python\\python311\\site-packages (from matplotlib->catboost) (10.1.0)\n",
      "Requirement already satisfied: pyparsing>=2.3.1 in c:\\users\\hp\\appdata\\roaming\\python\\python311\\site-packages (from matplotlib->catboost) (3.1.1)\n",
      "Requirement already satisfied: tenacity>=6.2.0 in c:\\users\\hp\\appdata\\roaming\\python\\python311\\site-packages (from plotly->catboost) (8.2.3)\n",
      "Note: you may need to restart the kernel to use updated packages.\n"
     ]
    },
    {
     "name": "stderr",
     "output_type": "stream",
     "text": [
      "DEPRECATION: Loading egg at c:\\program files\\python311\\lib\\site-packages\\vboxapi-1.0-py3.11.egg is deprecated. pip 24.3 will enforce this behaviour change. A possible replacement is to use pip for package installation.. Discussion can be found at https://github.com/pypa/pip/issues/12330\n",
      "\n",
      "[notice] A new release of pip is available: 24.0 -> 24.2\n",
      "[notice] To update, run: python.exe -m pip install --upgrade pip\n"
     ]
    }
   ],
   "source": [
    "pip install catboost\n"
   ]
  },
  {
   "cell_type": "markdown",
   "metadata": {},
   "source": [
    "CATBOOST"
   ]
  },
  {
   "cell_type": "code",
   "execution_count": 37,
   "metadata": {},
   "outputs": [
    {
     "name": "stdout",
     "output_type": "stream",
     "text": [
      "0:\tlearn: 1.0132278\ttest: 1.0132661\tbest: 1.0132661 (0)\ttotal: 821ms\tremaining: 6m 49s\n",
      "100:\tlearn: 0.4984714\ttest: 0.5032153\tbest: 0.5032153 (100)\ttotal: 1m 43s\tremaining: 6m 49s\n",
      "200:\tlearn: 0.4571093\ttest: 0.4683096\tbest: 0.4683096 (200)\ttotal: 3m 22s\tremaining: 5m 1s\n",
      "300:\tlearn: 0.4304548\ttest: 0.4474561\tbest: 0.4474561 (300)\ttotal: 4m 59s\tremaining: 3m 18s\n",
      "400:\tlearn: 0.4096625\ttest: 0.4318878\tbest: 0.4318878 (400)\ttotal: 6m 35s\tremaining: 1m 37s\n",
      "499:\tlearn: 0.3920999\ttest: 0.4191713\tbest: 0.4191713 (499)\ttotal: 8m 10s\tremaining: 0us\n",
      "\n",
      "bestTest = 0.4191712888\n",
      "bestIteration = 499\n",
      "\n",
      "CatBoost Accuracy: 84.63%\n",
      "              precision    recall  f1-score   support\n",
      "\n",
      "    Negative       0.77      0.80      0.79     14134\n",
      "     Neutral       0.80      0.09      0.17      4666\n",
      "    Positive       0.87      0.95      0.91     39343\n",
      "\n",
      "    accuracy                           0.85     58143\n",
      "   macro avg       0.81      0.62      0.62     58143\n",
      "weighted avg       0.84      0.85      0.82     58143\n",
      "\n"
     ]
    }
   ],
   "source": [
    "from catboost import CatBoostClassifier\n",
    "from sklearn.metrics import accuracy_score, classification_report\n",
    "\n",
    "# Step 1: Convert sentiment labels to numerical values\n",
    "sentiment_mapping = {'Positive': 2, 'Neutral': 1, 'Negative': 0}\n",
    "y_train_numeric = np.array([sentiment_mapping[label] for label in y_train])\n",
    "y_test_numeric = np.array([sentiment_mapping[label] for label in y_test])\n",
    "\n",
    "# Step 2: Initialize CatBoostClassifier\n",
    "catboost_model = CatBoostClassifier(\n",
    "    iterations=500,             # Number of boosting iterations\n",
    "    depth=6,                    # Depth of each tree (you can adjust this)\n",
    "    learning_rate=0.1,          # Learning rate\n",
    "    loss_function='MultiClass', # Specify it’s a multiclass problem\n",
    "    verbose=100,                # Display training progress every 100 iterations\n",
    "    random_seed=42              # For reproducibility\n",
    ")\n",
    "\n",
    "# Step 3: Train the model\n",
    "catboost_model.fit(X_train, y_train_numeric, eval_set=(X_test, y_test_numeric), early_stopping_rounds=10)\n",
    "\n",
    "# Step 4: Predict on test data\n",
    "y_pred = catboost_model.predict(X_test)\n",
    "y_pred = y_pred.flatten()  # Convert to 1D array if needed\n",
    "\n",
    "# Step 5: Map predictions back to sentiment labels\n",
    "inverse_sentiment_mapping = {0: 'Negative', 1: 'Neutral', 2: 'Positive'}\n",
    "y_pred_labels = np.array([inverse_sentiment_mapping[pred] for pred in y_pred])\n",
    "y_test_labels = np.array([inverse_sentiment_mapping[actual] for actual in y_test_numeric])\n",
    "\n",
    "# Step 6: Evaluate the model\n",
    "accuracy = accuracy_score(y_test_labels, y_pred_labels)\n",
    "print(f\"CatBoost Accuracy: {accuracy * 100:.2f}%\")\n",
    "print(classification_report(y_test_labels, y_pred_labels))\n"
   ]
  },
  {
   "cell_type": "code",
   "execution_count": 38,
   "metadata": {},
   "outputs": [
    {
     "name": "stdout",
     "output_type": "stream",
     "text": [
      "Index(['Product Name', 'Brand Name', 'Price', 'Rating', 'Reviews',\n",
      "       'Review Votes', 'cleaned_phrases', 'Phrase_Embeddings',\n",
      "       'Phrase_Clusters', 'Sentiment'],\n",
      "      dtype='object')\n"
     ]
    }
   ],
   "source": [
    "print(df.columns)\n"
   ]
  },
  {
   "cell_type": "code",
   "execution_count": 40,
   "metadata": {},
   "outputs": [
    {
     "name": "stdout",
     "output_type": "stream",
     "text": [
      "                                        Product Name  \\\n",
      "0  \"clear clean esn\" sprint epic 4g galaxy sph-d7...   \n",
      "1  \"clear clean esn\" sprint epic 4g galaxy sph-d7...   \n",
      "2  \"clear clean esn\" sprint epic 4g galaxy sph-d7...   \n",
      "3  \"clear clean esn\" sprint epic 4g galaxy sph-d7...   \n",
      "4  \"clear clean esn\" sprint epic 4g galaxy sph-d7...   \n",
      "\n",
      "  Aggregated_Sentiment_Scores  \n",
      "0                    {8: 1.0}  \n",
      "1                    {8: 1.0}  \n",
      "2                    {9: 1.0}  \n",
      "3                    {9: 1.0}  \n",
      "4                    {8: 1.0}  \n"
     ]
    }
   ],
   "source": [
    "import numpy as np\n",
    "\n",
    "# Step 1: Convert sentiment labels to numerical values\n",
    "sentiment_to_score = {'Positive': 1, 'Neutral': 0, 'Negative': -1}\n",
    "\n",
    "# Convert 'Sentiment' to numerical scores (no need to iterate over lists)\n",
    "df['Sentiment_Scores'] = df['Sentiment'].apply(lambda sent: sentiment_to_score[sent])\n",
    "\n",
    "# Function to aggregate sentiment scores by clusters\n",
    "def aggregate_sentiment_scores(phrase_clusters, sentiment_scores):\n",
    "    cluster_sentiment_dict = {}\n",
    "    # Combine the clusters and corresponding sentiment scores\n",
    "    for cluster, score in zip(phrase_clusters, sentiment_scores):\n",
    "        if cluster not in cluster_sentiment_dict:\n",
    "            cluster_sentiment_dict[cluster] = []\n",
    "        cluster_sentiment_dict[cluster].append(score)\n",
    "    \n",
    "    # Average the sentiment scores for each feature cluster\n",
    "    aggregated_scores = {cluster: np.mean(scores) for cluster, scores in cluster_sentiment_dict.items()}\n",
    "    return aggregated_scores\n",
    "\n",
    "# Apply the aggregation function to each row\n",
    "df['Aggregated_Sentiment_Scores'] = df.apply(\n",
    "    lambda row: aggregate_sentiment_scores(row['Phrase_Clusters'], [row['Sentiment_Scores']]), axis=1\n",
    ")\n",
    "\n",
    "# Display the results\n",
    "print(df[['Product Name', 'Aggregated_Sentiment_Scores']].head())\n"
   ]
  },
  {
   "cell_type": "code",
   "execution_count": 51,
   "metadata": {},
   "outputs": [
    {
     "name": "stdout",
     "output_type": "stream",
     "text": [
      "                                             Product Name   Brand Name  \\\n",
      "0       \"clear clean esn\" sprint epic 4g galaxy sph-d7...      Samsung   \n",
      "297941  posh mobile orion s450 android smartphone unlo...  Posh Mobile   \n",
      "298092  posh mobile primo c353 cellphone, 512mb rom, 4...  Posh Mobile   \n",
      "298097  posh mobile primo plus android unlocked dual s...  Posh Mobile   \n",
      "298107  posh mobile primo plus android unlocked dual s...  Posh Mobile   \n",
      "\n",
      "         Price  Rating  \n",
      "0       199.99       5  \n",
      "297941  114.99       5  \n",
      "298092   34.99       5  \n",
      "298097   39.99       5  \n",
      "298107   29.99       5  \n"
     ]
    }
   ],
   "source": [
    "import numpy as np\n",
    "\n",
    "# Function to recommend products based on user-specified features\n",
    "def recommend_products_based_on_features(user_features, df):\n",
    "    # Ensure user input features are stripped of extra whitespace\n",
    "    user_features = [feature.strip().lower() for feature in user_features]\n",
    "    \n",
    "    # Filter relevant features' sentiment scores\n",
    "    df['Relevant_Sentiment_Scores'] = df['Aggregated_Sentiment_Scores'].apply(\n",
    "        lambda scores: {feature: score for feature in user_features if feature in scores}\n",
    "    )\n",
    "    \n",
    "    # Compute overall sentiment score for each product\n",
    "    df['Overall_Sentiment_Score'] = df['Relevant_Sentiment_Scores'].apply(\n",
    "        lambda scores: np.mean(list(scores.values())) if scores else 0\n",
    "    )\n",
    "    \n",
    "    # Drop duplicate products\n",
    "    ranked_df = df.drop_duplicates(subset=['Product Name', 'Brand Name'])\n",
    "    \n",
    "    # Rank products by overall sentiment score (highest to lowest)\n",
    "    ranked_df = ranked_df.sort_values(by='Overall_Sentiment_Score', ascending=False)\n",
    "    \n",
    "    # Return relevant columns for recommendation\n",
    "    return ranked_df[['Product Name', 'Brand Name', 'Price', 'Rating']]\n",
    "\n",
    "# Taking user input for desired features\n",
    "#user_features = input(\"Enter the features you're interested in, separated by commas: \").split(',')\n",
    "user_features = ['battery','camera']\n",
    "\n",
    "# Example: Recommend products based on user input features\n",
    "ranked_recommendations = recommend_products_based_on_features(user_features, df)\n",
    "\n",
    "# Display the ranked list of recommended products\n",
    "print(ranked_recommendations.head(5))\n"
   ]
  },
  {
   "cell_type": "code",
   "execution_count": 53,
   "metadata": {},
   "outputs": [
    {
     "name": "stdout",
     "output_type": "stream",
     "text": [
      "                                             Product Name Brand Name   Price  \\\n",
      "0       \"clear clean esn\" sprint epic 4g galaxy sph-d7...    Samsung  199.99   \n",
      "363416  samsung galaxy s6 edge plus sm-g928 64gb cell ...    Samsung  399.99   \n",
      "363695  samsung galaxy s6 edge sm-925v 64gb white smar...    Samsung  487.93   \n",
      "363703  samsung galaxy s6 edge sm-g925 factory unlocke...    Samsung  449.99   \n",
      "364890  samsung galaxy s6 edge sm-g925f 128gb gold fac...    Samsung  699.00   \n",
      "\n",
      "        Rating  \n",
      "0            5  \n",
      "363416       5  \n",
      "363695       5  \n",
      "363703       5  \n",
      "364890       5  \n"
     ]
    }
   ],
   "source": [
    "import numpy as np\n",
    "\n",
    "# Function to recommend products based on user-specified features and brands\n",
    "def recommend_products_based_on_features_and_brands(user_features, user_brands, df):\n",
    "    # Ensure user input features and brands are stripped of extra whitespace and converted to lowercase\n",
    "    user_features = [feature.strip().lower() for feature in user_features]\n",
    "    user_brands = [brand.strip().lower() for brand in user_brands]\n",
    "    \n",
    "    # Filter relevant features' sentiment scores\n",
    "    df['Relevant_Sentiment_Scores'] = df['Aggregated_Sentiment_Scores'].apply(\n",
    "        lambda scores: {feature: score for feature in user_features if feature in scores}\n",
    "    )\n",
    "    \n",
    "    # Compute overall sentiment score for each product\n",
    "    df['Overall_Sentiment_Score'] = df['Relevant_Sentiment_Scores'].apply(\n",
    "        lambda scores: np.mean(list(scores.values())) if scores else 0\n",
    "    )\n",
    "    \n",
    "    ranked_df = df.drop_duplicates(subset=['Product Name', 'Brand Name'])\n",
    "    \n",
    "    # Filter products by user-specified brands\n",
    "    if user_brands:\n",
    "        ranked_df = ranked_df[ranked_df['Brand Name'].str.lower().isin(user_brands)]\n",
    "    \n",
    "    # Rank products by overall sentiment score (highest to lowest)\n",
    "    ranked_df = ranked_df.sort_values(by='Overall_Sentiment_Score', ascending=False)\n",
    "    \n",
    "    # Return relevant columns for recommendation\n",
    "    return ranked_df[['Product Name', 'Brand Name', 'Price', 'Rating']]\n",
    "\n",
    "# Taking user input for desired features and brands\n",
    "#user_features = input(\"Enter the features you're interested in, separated by commas: \").split(',')\n",
    "#user_brands = input(\"Enter the brands you're interested in, separated by commas (leave empty if not specified): \").split(',')\n",
    "user_features = ['battery','camera']\n",
    "user_brands = ['Samsung']\n",
    "# Example: Recommend products based on user input features and brands\n",
    "ranked_recommendations = recommend_products_based_on_features_and_brands(user_features, user_brands, df)\n",
    "\n",
    "# Display the ranked list of recommended products\n",
    "print(ranked_recommendations.head(5))\n"
   ]
  }
 ],
 "metadata": {
  "kernelspec": {
   "display_name": "Python 3",
   "language": "python",
   "name": "python3"
  },
  "language_info": {
   "codemirror_mode": {
    "name": "ipython",
    "version": 3
   },
   "file_extension": ".py",
   "mimetype": "text/x-python",
   "name": "python",
   "nbconvert_exporter": "python",
   "pygments_lexer": "ipython3",
   "version": "3.11.5"
  }
 },
 "nbformat": 4,
 "nbformat_minor": 2
}
